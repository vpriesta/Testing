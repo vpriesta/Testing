{
 "cells": [
  {
   "cell_type": "code",
   "execution_count": 1,
   "id": "4072a0ba",
   "metadata": {},
   "outputs": [],
   "source": [
    "import re\n",
    "import pandas as pd\n",
    "\n",
    "from flask import Flask, jsonify\n",
    "\n",
    "app = Flask(__name__)\n",
    "\n",
    "from flask import request\n",
    "from flasgger import Swagger, LazyString, LazyJSONEncoder\n",
    "from flasgger import swag_from\n",
    "\n",
    "app.json_encoder = LazyJSONEncoder\n",
    "\n",
    "swagger_template = {\n",
    "    \"info\": {\n",
    "        \"title\":  \"API Documentation for Data Processing and Modeling\",\n",
    "        \"version\": \"1.0.0\",\n",
    "        \"description\": \"Dokumentasi API untuk Data Processing dan Modeling\"\n",
    "    },\n",
    "    \"host\": \"127.0.0.1:5000\"\n",
    "}\n",
    "\n",
    "swagger_config = {\n",
    "\t\"headers\" : [],\n",
    "\t\"specs\" : [\n",
    "\t\t{\n",
    "\t\t\t\"endpoint\" : 'docs',\n",
    "\t\t\t\"route\" : '/docs.json'\n",
    "\t\t}\n",
    "\t],\n",
    "\t\"static_url_path\" : '/flasgger_static',\n",
    "\t\"swagger_ui\" : True,\n",
    "\t\"specs_route\" : \"/docs/\"\n",
    "}\n",
    "\n",
    "\n",
    "swagger = Swagger(app, template=swagger_template,             \n",
    "                  config=swagger_config)"
   ]
  },
  {
   "cell_type": "code",
   "execution_count": 2,
   "id": "81a575a0",
   "metadata": {},
   "outputs": [],
   "source": [
    "@swag_from(\"C:/Users/KKA-ASUS/DSC 20/Topic 3/docs/hello_world.yml\", methods=['GET'])\n",
    "@app.route('/', methods=['GET'])\n",
    "def hello_world():\n",
    "    json_response = {\n",
    "        'status_code': 200,\n",
    "        'description': \"Menyapa Hello World\",\n",
    "        'data': \"Hello World\",\n",
    "    }\n",
    "\n",
    "    response_data = jsonify(json_response)\n",
    "    return response_data\n",
    "\n",
    "@swag_from(\"C:/Users/KKA-ASUS/DSC 20/Topic 3/docs/text.yml\", methods=['GET'])\n",
    "@app.route('/text', methods=['GET'])\n",
    "def text():\n",
    "    json_response = {\n",
    "        'status_code': 200,\n",
    "        'description': \"Original Teks\",\n",
    "        'data': \"Halo, apa kabar semua?\",\n",
    "    }\n",
    "\n",
    "    response_data = jsonify(json_response)\n",
    "    return response_data\n",
    "\n",
    "@swag_from(\"C:/Users/KKA-ASUS/DSC 20/Topic 3/docs/text_clean.yml\", methods=['GET'])\n",
    "@app.route('/text-clean', methods=['GET'])\n",
    "def text_clean():\n",
    "    json_response = {\n",
    "        'status_code': 200,\n",
    "        'description': \"Teks yang sudah dibersihkan\",\n",
    "        'data': re.sub(r'[^a-zA-Z0-9]', ' ', \"Halo, apa kabar semua?\"),\n",
    "    }\n",
    "\n",
    "    response_data = jsonify(json_response)\n",
    "    return response_data"
   ]
  },
  {
   "cell_type": "code",
   "execution_count": 3,
   "id": "68de8043",
   "metadata": {},
   "outputs": [],
   "source": [
    "# @swag_from(\"C:/Users/KKA-ASUS/DSC 20/Topic 3/docs/text_processing.yml\", methods=['POST'])\n",
    "# @app.route('/text-processing', methods=['POST'])\n",
    "# def text_processing():\n",
    "\n",
    "#     text = request.form.get('text')\n",
    "\n",
    "#     json_response = {\n",
    "#         'status_code': 200,\n",
    "#         'description': \"Teks yang sudah diproses\",\n",
    "#         'data': re.sub(r'[^a-zA-Z0-9]', ' ', text),\n",
    "#     }\n",
    "\n",
    "#     response_data = jsonify(json_response)\n",
    "#     return response_data"
   ]
  },
  {
   "cell_type": "code",
   "execution_count": 4,
   "id": "bdee73d6",
   "metadata": {},
   "outputs": [],
   "source": [
    "# @swag_from(\"C:/Users/KKA-ASUS/DSC 20/Topic 3/docs/text_processing_file.yml\", methods=['POST'])\n",
    "# @app.route('/text-processing-file', methods=['POST'])\n",
    "# def text_processing_file():\n",
    "\n",
    "#     # Upladed file\n",
    "#     file = request.files.getlist('file')[0]\n",
    "\n",
    "#     # Import file csv ke Pandas\n",
    "#     df = pd.read_csv(file)\n",
    "\n",
    "#     # Ambil teks yang akan diproses dalam format list\n",
    "#     texts = df.text.to_list()\n",
    "\n",
    "#     # Lakukan cleansing pada teks\n",
    "#     cleaned_text = []\n",
    "#     for text in texts:\n",
    "#         cleaned_text.append(re.sub(r'[^a-zA-Z0-9]', ' ', text))\n",
    "\n",
    "#     json_response = {\n",
    "#         'status_code': 200,\n",
    "#         'description': \"Teks yang sudah diproses\",\n",
    "#         'data': cleaned_text,\n",
    "#     }\n",
    "\n",
    "#     response_data = jsonify(json_response)\n",
    "#     return response_data"
   ]
  },
  {
   "cell_type": "code",
   "execution_count": null,
   "id": "d0eb021e",
   "metadata": {},
   "outputs": [
    {
     "name": "stdout",
     "output_type": "stream",
     "text": [
      " * Serving Flask app '__main__'\n",
      " * Debug mode: off\n"
     ]
    },
    {
     "name": "stderr",
     "output_type": "stream",
     "text": [
      "WARNING: This is a development server. Do not use it in a production deployment. Use a production WSGI server instead.\n",
      " * Running on http://127.0.0.1:5000\n",
      "Press CTRL+C to quit\n",
      "127.0.0.1 - - [03/Apr/2024 22:23:11] \"GET / HTTP/1.1\" 200 -\n",
      "127.0.0.1 - - [03/Apr/2024 22:23:14] \"GET /docs/ HTTP/1.1\" 200 -\n",
      "127.0.0.1 - - [03/Apr/2024 22:23:15] \"GET /flasgger_static/swagger-ui-bundle.js HTTP/1.1\" 304 -\n",
      "127.0.0.1 - - [03/Apr/2024 22:23:15] \"GET /flasgger_static/lib/jquery.min.js HTTP/1.1\" 304 -\n",
      "127.0.0.1 - - [03/Apr/2024 22:23:15] \"GET /flasgger_static/swagger-ui-standalone-preset.js HTTP/1.1\" 304 -\n",
      "127.0.0.1 - - [03/Apr/2024 22:23:15] \"GET /flasgger_static/swagger-ui.css HTTP/1.1\" 304 -\n",
      "127.0.0.1 - - [03/Apr/2024 22:23:15] \"GET /docs.json HTTP/1.1\" 200 -\n",
      "127.0.0.1 - - [03/Apr/2024 22:25:41] \"POST /text-processing-file HTTP/1.1\" 200 -\n"
     ]
    }
   ],
   "source": [
    "if __name__ == '__main__':\n",
    "    app.run()"
   ]
  },
  {
   "cell_type": "code",
   "execution_count": 1,
   "id": "f8097fe0",
   "metadata": {},
   "outputs": [],
   "source": [
    "with open(\"hihi.yml\", \"w\", encoding=\"utf-8\") as f:\n",
    "    f.write(\"hey\")"
   ]
  }
 ],
 "metadata": {
  "kernelspec": {
   "display_name": "Python 3 (ipykernel)",
   "language": "python",
   "name": "python3"
  },
  "language_info": {
   "codemirror_mode": {
    "name": "ipython",
    "version": 3
   },
   "file_extension": ".py",
   "mimetype": "text/x-python",
   "name": "python",
   "nbconvert_exporter": "python",
   "pygments_lexer": "ipython3",
   "version": "3.10.9"
  }
 },
 "nbformat": 4,
 "nbformat_minor": 5
}
