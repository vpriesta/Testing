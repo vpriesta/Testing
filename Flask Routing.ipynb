{
 "cells": [
  {
   "cell_type": "code",
   "execution_count": 1,
   "id": "e597339d",
   "metadata": {},
   "outputs": [],
   "source": [
    "import re\n",
    "from flask import Flask, jsonify"
   ]
  },
  {
   "cell_type": "code",
   "execution_count": 2,
   "id": "46f3c766",
   "metadata": {},
   "outputs": [],
   "source": [
    "app = Flask(__name__)"
   ]
  },
  {
   "cell_type": "code",
   "execution_count": 3,
   "id": "5692a8a5",
   "metadata": {},
   "outputs": [],
   "source": [
    "@app.route('/', methods = ['GET'])\n",
    "def hello_world():\n",
    "    json_response = {\n",
    "        'status_code': 200,\n",
    "        'description': 'Menyapa Hello World',\n",
    "        'data': 'Hello World',\n",
    "    }\n",
    "    \n",
    "    response_data = jsonify(json_response)\n",
    "    return response_data"
   ]
  },
  {
   "cell_type": "code",
   "execution_count": 4,
   "id": "dda098c3",
   "metadata": {},
   "outputs": [],
   "source": [
    "@app.route('/text', methods = ['GET'])\n",
    "def text():\n",
    "    json_response = {\n",
    "        'status_code': 200,\n",
    "        'description': 'Original teks',\n",
    "        'data': 'Halo, data scientist!!!!!',\n",
    "    }\n",
    "    \n",
    "    response_data = jsonify(json_response)\n",
    "    return response_data"
   ]
  },
  {
   "cell_type": "code",
   "execution_count": 5,
   "id": "7d9db961",
   "metadata": {},
   "outputs": [],
   "source": [
    "@app.route('/text-clean', methods = ['GET'])\n",
    "def text_clean():\n",
    "    json_response = {\n",
    "        'status_code': 200,\n",
    "        'description': 'Teks yang sudah dibersihkan',\n",
    "        'data': re.sub(r'[^a-zA-Z0-9]',' ', 'Halo, data scientist!!!!!')\n",
    "    }\n",
    "    \n",
    "    response_data = jsonify(json_response)\n",
    "    return response_data"
   ]
  },
  {
   "cell_type": "code",
   "execution_count": null,
   "id": "0b8cd9f6",
   "metadata": {},
   "outputs": [
    {
     "name": "stdout",
     "output_type": "stream",
     "text": [
      " * Serving Flask app '__main__'\n",
      " * Debug mode: off\n"
     ]
    },
    {
     "name": "stderr",
     "output_type": "stream",
     "text": [
      "WARNING: This is a development server. Do not use it in a production deployment. Use a production WSGI server instead.\n",
      " * Running on http://127.0.0.1:5000\n",
      "Press CTRL+C to quit\n",
      "127.0.0.1 - - [03/Apr/2024 20:59:28] \"GET / HTTP/1.1\" 200 -\n",
      "127.0.0.1 - - [03/Apr/2024 20:59:56] \"GET /text HTTP/1.1\" 200 -\n",
      "127.0.0.1 - - [03/Apr/2024 21:00:17] \"GET /text-clean HTTP/1.1\" 200 -\n"
     ]
    }
   ],
   "source": [
    "if __name__ == '__main__':\n",
    "    app.run()"
   ]
  },
  {
   "cell_type": "code",
   "execution_count": null,
   "id": "f5c2b7f1",
   "metadata": {},
   "outputs": [],
   "source": []
  }
 ],
 "metadata": {
  "kernelspec": {
   "display_name": "Python 3 (ipykernel)",
   "language": "python",
   "name": "python3"
  },
  "language_info": {
   "codemirror_mode": {
    "name": "ipython",
    "version": 3
   },
   "file_extension": ".py",
   "mimetype": "text/x-python",
   "name": "python",
   "nbconvert_exporter": "python",
   "pygments_lexer": "ipython3",
   "version": "3.10.9"
  }
 },
 "nbformat": 4,
 "nbformat_minor": 5
}
