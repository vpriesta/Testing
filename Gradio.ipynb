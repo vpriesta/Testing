{
 "cells": [
  {
   "cell_type": "code",
   "execution_count": 4,
   "id": "6647c672",
   "metadata": {},
   "outputs": [
    {
     "name": "stdout",
     "output_type": "stream",
     "text": [
      "Running on local URL:  http://127.0.0.1:7863\n",
      "\n",
      "To create a public link, set `share=True` in `launch()`.\n"
     ]
    },
    {
     "data": {
      "text/html": [
       "<div><iframe src=\"http://127.0.0.1:7863/\" width=\"100%\" height=\"500\" allow=\"autoplay; camera; microphone; clipboard-read; clipboard-write;\" frameborder=\"0\" allowfullscreen></iframe></div>"
      ],
      "text/plain": [
       "<IPython.core.display.HTML object>"
      ]
     },
     "metadata": {},
     "output_type": "display_data"
    },
    {
     "data": {
      "text/plain": []
     },
     "execution_count": 4,
     "metadata": {},
     "output_type": "execute_result"
    }
   ],
   "source": [
    "import re\n",
    "import gradio as gr\n",
    "\n",
    "def data_processing(text):\n",
    "    return re.sub(r'[^a-zA-Z0-9]', ' ', text)\n",
    "\n",
    "gradio_ui = gr.Interface(\n",
    "    fn=data_processing,\n",
    "    title=\"Data Processing and Modeling\",\n",
    "    description=\"Aplikasi Web Data Processing dan Modeling\",\n",
    "    inputs=gr.Textbox(label=\"Paste your text here\",\n",
    "            info=\"Initial text\",\n",
    "            lines=3),\n",
    "    outputs=gr.Textbox(label=\"Result\",\n",
    "            info=\"Clean text\",\n",
    "            lines=3)\n",
    ")\n",
    "\n",
    "gradio_ui.launch()"
   ]
  },
  {
   "cell_type": "code",
   "execution_count": 5,
   "id": "de83b4da",
   "metadata": {},
   "outputs": [
    {
     "name": "stderr",
     "output_type": "stream",
     "text": [
      "C:\\Users\\KKA-ASUS\\anaconda3\\lib\\site-packages\\pandas\\core\\arrays\\masked.py:60: UserWarning: Pandas requires version '1.3.6' or newer of 'bottleneck' (version '1.3.5' currently installed).\n",
      "  from pandas.core import (\n"
     ]
    },
    {
     "name": "stdout",
     "output_type": "stream",
     "text": [
      "Running on local URL:  http://127.0.0.1:7864\n",
      "\n",
      "To create a public link, set `share=True` in `launch()`.\n"
     ]
    },
    {
     "data": {
      "text/html": [
       "<div><iframe src=\"http://127.0.0.1:7864/\" width=\"100%\" height=\"500\" allow=\"autoplay; camera; microphone; clipboard-read; clipboard-write;\" frameborder=\"0\" allowfullscreen></iframe></div>"
      ],
      "text/plain": [
       "<IPython.core.display.HTML object>"
      ]
     },
     "metadata": {},
     "output_type": "display_data"
    },
    {
     "data": {
      "text/plain": []
     },
     "execution_count": 5,
     "metadata": {},
     "output_type": "execute_result"
    }
   ],
   "source": [
    "import re\n",
    "import gradio as gr\n",
    "import pandas as pd\n",
    "\n",
    "def data_processing(file_obj):\n",
    "\n",
    "    # Import file csv ke Pandas\n",
    "    df = pd.read_csv(file_obj.name)\n",
    "\n",
    "    # Ambil teks yang akan diproses dalam format list\n",
    "    texts = df.text.to_list()\n",
    "\n",
    "    # Lakukan cleansing pada teks\n",
    "    cleaned_text = []\n",
    "    for text in texts:\n",
    "        cleaned_text.append(re.sub(r'[^a-zA-Z0-9]', ' ', text))\n",
    "\n",
    "    return cleaned_text\n",
    "\n",
    "\n",
    "gradio_ui = gr.Interface(data_processing, \n",
    "                            title=\"Data Processing and Modeling\",\n",
    "                            description=\"Aplikasi Web Data Processing dan Modeling\",\n",
    "                            inputs=\"file\", \n",
    "                            outputs=\"json\")\n",
    "\n",
    "gradio_ui.launch()"
   ]
  }
 ],
 "metadata": {
  "kernelspec": {
   "display_name": "Python 3 (ipykernel)",
   "language": "python",
   "name": "python3"
  },
  "language_info": {
   "codemirror_mode": {
    "name": "ipython",
    "version": 3
   },
   "file_extension": ".py",
   "mimetype": "text/x-python",
   "name": "python",
   "nbconvert_exporter": "python",
   "pygments_lexer": "ipython3",
   "version": "3.10.9"
  }
 },
 "nbformat": 4,
 "nbformat_minor": 5
}
